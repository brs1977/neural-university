{
  "nbformat": 4,
  "nbformat_minor": 0,
  "metadata": {
    "colab": {
      "name": "nc_mnist_gpu.ipynb",
      "version": "0.3.2",
      "provenance": [],
      "collapsed_sections": [],
      "include_colab_link": true
    },
    "kernelspec": {
      "name": "python3",
      "display_name": "Python 3"
    },
    "accelerator": "GPU"
  },
  "cells": [
    {
      "cell_type": "markdown",
      "metadata": {
        "id": "view-in-github",
        "colab_type": "text"
      },
      "source": [
        "<a href=\"https://colab.research.google.com/github/brs1977/neural-university/blob/master/HW/01_mnist_gpu.ipynb\" target=\"_parent\"><img src=\"https://colab.research.google.com/assets/colab-badge.svg\" alt=\"Open In Colab\"/></a>"
      ]
    },
    {
      "metadata": {
        "id": "MWTJMJXikgp-",
        "colab_type": "code",
        "colab": {}
      },
      "cell_type": "code",
      "source": [
        "from sklearn.metrics import accuracy_score, mean_squared_error, mean_absolute_error\n",
        "from tensorflow.keras.datasets import mnist\n",
        "from tensorflow.keras.models import Sequential\n",
        "from tensorflow.keras.layers import Dense, Conv2D, MaxPooling2D, Dropout, Flatten \n",
        "from tensorflow.keras import utils\n",
        "from tensorflow.keras.preprocessing import image\n",
        "from tensorflow.python.keras.preprocessing.image import ImageDataGenerator\n",
        "from tensorflow.keras.callbacks import ReduceLROnPlateau, ModelCheckpoint, EarlyStopping\n",
        "import tensorflow as tf\n",
        "from sklearn.model_selection import train_test_split\n",
        "from google.colab import files\n",
        "import numpy as np\n",
        "import random\n",
        "import os\n",
        "import pandas as pd\n",
        "\n",
        "import matplotlib.pyplot as plt\n",
        "%matplotlib inline "
      ],
      "execution_count": 0,
      "outputs": []
    },
    {
      "metadata": {
        "id": "dqhvhQ__kwJW",
        "colab_type": "text"
      },
      "cell_type": "markdown",
      "source": [
        "##Загрузка и подготовка данных"
      ]
    },
    {
      "metadata": {
        "id": "VheKVZzwkuXI",
        "colab_type": "code",
        "outputId": "71d1a0f9-fda1-4980-a0c1-3338a8363c66",
        "colab": {
          "base_uri": "https://localhost:8080/",
          "height": 218
        }
      },
      "cell_type": "code",
      "source": [
        "(x_train_org, y_train_org), (x_test_org, y_test_org) = mnist.load_data()\n",
        "\n",
        "x_train = x_train_org.reshape(60000, 784)\n",
        "x_test = x_test_org.reshape(10000, 784)\n",
        "\n",
        "x_train = x_train.astype('float32') / 255\n",
        "y_train = utils.to_categorical(y_train_org, 10)\n",
        "\n",
        "#x_train = x_train.reshape(x_train.shape[0], 28, 28, 1)\n",
        "\n",
        "x_test = x_test.astype('float32') / 255\n",
        "y_test = utils.to_categorical(y_test_org, 10)\n",
        "\n",
        "y_train[100:110]"
      ],
      "execution_count": 0,
      "outputs": [
        {
          "output_type": "stream",
          "text": [
            "Downloading data from https://storage.googleapis.com/tensorflow/tf-keras-datasets/mnist.npz\n",
            "11493376/11490434 [==============================] - 0s 0us/step\n"
          ],
          "name": "stdout"
        },
        {
          "output_type": "execute_result",
          "data": {
            "text/plain": [
              "array([[0., 0., 0., 0., 0., 1., 0., 0., 0., 0.],\n",
              "       [0., 0., 0., 0., 0., 0., 0., 1., 0., 0.],\n",
              "       [0., 1., 0., 0., 0., 0., 0., 0., 0., 0.],\n",
              "       [0., 0., 0., 0., 0., 0., 0., 1., 0., 0.],\n",
              "       [0., 1., 0., 0., 0., 0., 0., 0., 0., 0.],\n",
              "       [0., 1., 0., 0., 0., 0., 0., 0., 0., 0.],\n",
              "       [0., 0., 0., 0., 0., 0., 1., 0., 0., 0.],\n",
              "       [0., 0., 0., 1., 0., 0., 0., 0., 0., 0.],\n",
              "       [1., 0., 0., 0., 0., 0., 0., 0., 0., 0.],\n",
              "       [0., 0., 1., 0., 0., 0., 0., 0., 0., 0.]], dtype=float32)"
            ]
          },
          "metadata": {
            "tags": []
          },
          "execution_count": 2
        }
      ]
    },
    {
      "metadata": {
        "id": "5MgaMH19ILPP",
        "colab_type": "text"
      },
      "cell_type": "markdown",
      "source": [
        "#Создаем модель"
      ]
    },
    {
      "metadata": {
        "id": "2HhRQ2SfoQ08",
        "colab_type": "code",
        "colab": {}
      },
      "cell_type": "code",
      "source": [
        "def create_model(layers, TPU=False):\n",
        "  model = Sequential()\n",
        "  # Входной полносвязный слой, 800 нейронов, 784 входа в каждый нейрон\n",
        "  #model.add(Dense(800, input_dim=784, activation=\"relu\"))\n",
        "  for layer in layers:\n",
        "    model.add(layer)\n",
        "  \n",
        "  # Выходной полносвязный слой, 10 нейронов (по количеству рукописных цифр)\n",
        "  model.add(Dense(10, activation=\"softmax\"))\n",
        "\n",
        "  if TPU:\n",
        "    model = tf.contrib.tpu.keras_to_tpu_model(\n",
        "        model,\n",
        "        strategy=tf.contrib.tpu.TPUDistributionStrategy(\n",
        "            tf.contrib.cluster_resolver.TPUClusterResolver(tpu='grpc://' + os.environ['COLAB_TPU_ADDR'])\n",
        "        )\n",
        "    )  \n",
        "  \n",
        "  model.compile(loss=\"categorical_crossentropy\", optimizer=\"adam\", metrics=[\"accuracy\"])\n",
        "  \n",
        "  return model\n",
        "\n",
        "def callbacks(verbose=0):\n",
        "  #будем сохранять последнюю лучшую модель \n",
        "  сheckpoint = ModelCheckpoint('mnist-cnn.hdf5', \n",
        "                                monitor='acc', \n",
        "                                save_best_only=True,\n",
        "                                verbose=verbose)\n",
        "\n",
        "  #уменьшаем скорость обучения в 2 раза, если за 3 эпохи, метрика не улучшилась\n",
        "  learning_rate_reduction = ReduceLROnPlateau(monitor='acc', \n",
        "                                              patience=3, \n",
        "                                              verbose=verbose, \n",
        "                                              factor=0.5, \n",
        "                                              min_lr=0.00001)\n",
        "\n",
        "  #остановим обучение если за 5 эпох, метрика не улучшилась\n",
        "  earlystop = EarlyStopping(monitor='acc', min_delta=0.001, patience=5,verbose=verbose, mode='auto')  \n",
        "  return [сheckpoint,learning_rate_reduction,earlystop]\n",
        "\n",
        "def predict(layers,verbose=0):\n",
        "  model = create_model(layers)\n",
        "  history = model.fit(x_train, y_train, batch_size=batch_size, epochs=100, callbacks=callbacks(),verbose=verbose)  \n",
        "  \n",
        "  model = create_model(layers)\n",
        "  model.load_weights('mnist-cnn.hdf5')\n",
        "  \n",
        "  predictions = model.predict(x_test)\n",
        "  train_acc = np.max(history.history['acc'])\n",
        "  test_acc = accuracy_score(np.argmax(y_test,axis=1), np.argmax(predictions,axis=1))\n",
        "  return (train_acc,test_acc)\n",
        "  \n",
        "  \n",
        "def test_layers(units=800,batch_size = 256, range_len = 10, verbose = 0):  \n",
        "  res = []\n",
        "  \n",
        "  train_acc = 0\n",
        "  test_acc = 0\n",
        "  for i in range(range_len):\n",
        "    trn_acc,tst_acc = predict([Dense(units, input_dim=784, activation=\"relu\")])\n",
        "    train_acc += trn_acc/range_len\n",
        "    test_acc += tst_acc/range_len\n",
        "    \n",
        "  res.append([1,units,train_acc,test_acc])\n",
        "                        \n",
        "  train_acc = 0\n",
        "  test_acc = 0\n",
        "  for i in range(range_len):\n",
        "    trn_acc,tst_acc = predict([Dense(units, input_dim=784, activation=\"relu\"),\n",
        "                                  Dense(units, activation=\"relu\")])\n",
        "    train_acc += trn_acc/range_len\n",
        "    test_acc += tst_acc/range_len\n",
        "\n",
        "  res.append([2,units,train_acc,test_acc])\n",
        "\n",
        "  train_acc = 0\n",
        "  test_acc = 0\n",
        "  for i in range(range_len):\n",
        "    trn_acc,tst_acc = predict([Dense(units, input_dim=784, activation=\"relu\"),\n",
        "                                   Dense(units, activation=\"relu\"),\n",
        "                                   Dense(units, activation=\"relu\")])\n",
        "    train_acc += trn_acc/range_len\n",
        "    test_acc += tst_acc/range_len\n",
        "    \n",
        "  res.append([3,units,train_acc,test_acc])\n",
        "  \n",
        "  return res     "
      ],
      "execution_count": 0,
      "outputs": []
    },
    {
      "metadata": {
        "id": "M7mYb6p6on96",
        "colab_type": "code",
        "outputId": "75fe232e-6e60-4b6c-976e-bb00c726e2cc",
        "colab": {
          "base_uri": "https://localhost:8080/",
          "height": 68
        }
      },
      "cell_type": "code",
      "source": [
        "%%time \n",
        "\n",
        "random.seed(666)\n",
        "batch_size = 256\n",
        "res = test_layers(units=800,batch_size=batch_size,range_len=10 )\n",
        "print(res)\n"
      ],
      "execution_count": 0,
      "outputs": [
        {
          "output_type": "stream",
          "text": [
            "[[1, 800, 0.9999749958515165, 0.98338], [2, 800, 0.998963326215744, 0.9837999999999999], [3, 800, 0.9985133349895476, 0.98293]]\n",
            "CPU times: user 26min 54s, sys: 3min 37s, total: 30min 32s\n",
            "Wall time: 26min 29s\n"
          ],
          "name": "stdout"
        }
      ]
    },
    {
      "metadata": {
        "id": "TLzd4KQf0Y_i",
        "colab_type": "code",
        "outputId": "9deb64e2-0548-4e48-b9d2-62641b88fecc",
        "colab": {
          "base_uri": "https://localhost:8080/",
          "height": 34
        }
      },
      "cell_type": "code",
      "source": [
        "random.seed(666)\n",
        "batch_size = 256\n",
        "res = test_layers(units=500,batch_size=batch_size,range_len=10 )\n",
        "print(res)\n"
      ],
      "execution_count": 0,
      "outputs": [
        {
          "output_type": "stream",
          "text": [
            "[[1, 500, 0.9999383330345153, 0.98239], [2, 500, 0.9990483283996582, 0.9830999999999999], [3, 500, 0.9988149940967559, 0.98373]]\n"
          ],
          "name": "stdout"
        }
      ]
    },
    {
      "metadata": {
        "id": "Q59U_7ifOGXD",
        "colab_type": "code",
        "outputId": "dc1a70cf-db55-47db-a046-2f887202b885",
        "colab": {
          "base_uri": "https://localhost:8080/",
          "height": 68
        }
      },
      "cell_type": "code",
      "source": [
        "%%time \n",
        "\n",
        "random.seed(666)\n",
        "batch_size = 256\n",
        "res = test_layers(units=600,batch_size=batch_size,range_len=10 )\n",
        "print(res)"
      ],
      "execution_count": 0,
      "outputs": [
        {
          "output_type": "stream",
          "text": [
            "[[1, 600, 0.9999300003051759, 0.9824800000000001], [2, 600, 0.9994083285331725, 0.98437], [3, 600, 0.9989583373069764, 0.98325]]\n",
            "CPU times: user 1h 2min 10s, sys: 2min 51s, total: 1h 5min 2s\n",
            "Wall time: 1h 56s\n"
          ],
          "name": "stdout"
        }
      ]
    },
    {
      "metadata": {
        "id": "i6ZlS4yywjLt",
        "colab_type": "code",
        "outputId": "e219d71f-9e99-4174-c15a-a130eae3cb5f",
        "colab": {
          "base_uri": "https://localhost:8080/",
          "height": 68
        }
      },
      "cell_type": "code",
      "source": [
        "%%time \n",
        "\n",
        "random.seed(666)\n",
        "batch_size = 256\n",
        "res = test_layers(units=700,batch_size=batch_size,range_len=10 )\n",
        "print(res)"
      ],
      "execution_count": 0,
      "outputs": [
        {
          "output_type": "stream",
          "text": [
            "[[1, 700, 0.9999166667461393, 0.9827700000000001], [2, 700, 0.9993333280086516, 0.98459], [3, 700, 0.9976899981498717, 0.9819500000000001]]\n",
            "CPU times: user 1h 24min 41s, sys: 3min 6s, total: 1h 27min 47s\n",
            "Wall time: 1h 23min 59s\n"
          ],
          "name": "stdout"
        }
      ]
    },
    {
      "metadata": {
        "id": "0hz5v1zdw8z8",
        "colab_type": "code",
        "outputId": "579c081b-1d9a-42e0-fd7a-4635c5a186eb",
        "colab": {
          "base_uri": "https://localhost:8080/",
          "height": 68
        }
      },
      "cell_type": "code",
      "source": [
        "%%time \n",
        "\n",
        "random.seed(666)\n",
        "batch_size = 256\n",
        "res = test_layers(units=900,batch_size=batch_size,range_len=10 )\n",
        "print(res)"
      ],
      "execution_count": 0,
      "outputs": [
        {
          "output_type": "stream",
          "text": [
            "[[1, 900, 0.9999683320522308, 0.9829299999999999], [2, 900, 0.9994483292102813, 0.98549], [3, 900, 0.9988383293151855, 0.9839800000000001]]\n",
            "CPU times: user 1h 57min 14s, sys: 4min 19s, total: 2h 1min 33s\n",
            "Wall time: 1h 58min 7s\n"
          ],
          "name": "stdout"
        }
      ]
    },
    {
      "metadata": {
        "id": "mpezXf3pYL_U",
        "colab_type": "code",
        "outputId": "864539cb-74c5-4a7d-f2f5-3dc2e6a22594",
        "colab": {
          "base_uri": "https://localhost:8080/",
          "height": 170
        }
      },
      "cell_type": "code",
      "source": [
        "%%time \n",
        "\n",
        "random.seed(666)\n",
        "batch_size = 256\n",
        "res = test_layers(units=1000,batch_size=batch_size,range_len=10 )\n",
        "print(res)"
      ],
      "execution_count": 0,
      "outputs": [
        {
          "output_type": "stream",
          "text": [
            "WARNING:tensorflow:From /usr/local/lib/python3.6/dist-packages/tensorflow/python/ops/resource_variable_ops.py:435: colocate_with (from tensorflow.python.framework.ops) is deprecated and will be removed in a future version.\n",
            "Instructions for updating:\n",
            "Colocations handled automatically by placer.\n",
            "WARNING:tensorflow:From /usr/local/lib/python3.6/dist-packages/tensorflow/python/ops/math_ops.py:3066: to_int32 (from tensorflow.python.ops.math_ops) is deprecated and will be removed in a future version.\n",
            "Instructions for updating:\n",
            "Use tf.cast instead.\n",
            "[[1, 1000, 0.9999783277511596, 0.98355], [2, 1000, 0.9992216706275939, 0.9851900000000001], [3, 1000, 0.9981000006198882, 0.9840899999999999]]\n",
            "CPU times: user 21min 8s, sys: 3min 31s, total: 24min 40s\n",
            "Wall time: 20min 47s\n"
          ],
          "name": "stdout"
        }
      ]
    },
    {
      "metadata": {
        "id": "kQTi8ax-eW8M",
        "colab_type": "code",
        "outputId": "713975d6-18f1-468d-d4e2-9dccf213f2a2",
        "colab": {
          "base_uri": "https://localhost:8080/",
          "height": 68
        }
      },
      "cell_type": "code",
      "source": [
        "%%time \n",
        "\n",
        "random.seed(666)\n",
        "batch_size = 256\n",
        "res = test_layers(units=1100,batch_size=batch_size,range_len=10 )\n",
        "print(res)"
      ],
      "execution_count": 0,
      "outputs": [
        {
          "output_type": "stream",
          "text": [
            "[[1, 1100, 0.999943333864212, 0.98322], [2, 1100, 0.9988299906253814, 0.98383], [3, 1100, 0.9992283284664153, 0.9847400000000001]]\n",
            "CPU times: user 38min 25s, sys: 4min 20s, total: 42min 45s\n",
            "Wall time: 38min 42s\n"
          ],
          "name": "stdout"
        }
      ]
    },
    {
      "metadata": {
        "id": "yQL_jSBJxYpU",
        "colab_type": "code",
        "outputId": "1dcc5db8-1303-4bfb-a31f-a35c04111a87",
        "colab": {
          "base_uri": "https://localhost:8080/",
          "height": 68
        }
      },
      "cell_type": "code",
      "source": [
        "%%time \n",
        "\n",
        "random.seed(666)\n",
        "batch_size = 256\n",
        "res = test_layers(units=1200,batch_size=batch_size,range_len=10 )\n",
        "print(res)"
      ],
      "execution_count": 0,
      "outputs": [
        {
          "output_type": "stream",
          "text": [
            "[[1, 1200, 0.9999366641044616, 0.98373], [2, 1200, 0.9991550028324127, 0.98437], [3, 1200, 0.9987733304500579, 0.9846900000000001]]\n",
            "CPU times: user 1h 1min 2s, sys: 4min 43s, total: 1h 5min 46s\n",
            "Wall time: 1h 1min 52s\n"
          ],
          "name": "stdout"
        }
      ]
    },
    {
      "metadata": {
        "id": "JDg_GhHWPf6G",
        "colab_type": "code",
        "outputId": "3d6a6a1a-4f27-4fe7-e058-3db86aaa5efb",
        "colab": {
          "base_uri": "https://localhost:8080/",
          "height": 68
        }
      },
      "cell_type": "code",
      "source": [
        "%%time \n",
        "\n",
        "random.seed(666)\n",
        "batch_size = 256\n",
        "res = test_layers(units=1300,batch_size=batch_size,range_len=10 )\n",
        "print(res)"
      ],
      "execution_count": 0,
      "outputs": [
        {
          "output_type": "stream",
          "text": [
            "[[1, 1300, 0.9998000025749206, 0.9832599999999999], [2, 1300, 0.9991166651248932, 0.9847399999999998], [3, 1300, 0.9985633254051208, 0.9842799999999999]]\n",
            "CPU times: user 1h 25min 14s, sys: 5min 10s, total: 1h 30min 25s\n",
            "Wall time: 1h 26min 47s\n"
          ],
          "name": "stdout"
        }
      ]
    },
    {
      "metadata": {
        "id": "5OzZDWGww0y-",
        "colab_type": "code",
        "colab": {}
      },
      "cell_type": "code",
      "source": [
        "res = [[1, 500, 0.9999383330345153, 0.98239], [2, 500, 0.9990483283996582, 0.9830999999999999], [3, 500, 0.9988149940967559, 0.98373]] + \\\n",
        "      [[1, 600, 0.9999300003051759, 0.9824800000000001], [2, 600, 0.9994083285331725, 0.98437], [3, 600, 0.9989583373069764, 0.98325]] + \\\n",
        "      [[1, 700, 0.9999166667461393, 0.9827700000000001], [2, 700, 0.9993333280086516, 0.98459], [3, 700, 0.9976899981498717, 0.9819500000000001]] + \\\n",
        "      [[1, 800, 0.9999749958515165, 0.98338], [2, 800, 0.998963326215744, 0.9837999999999999], [3, 800, 0.9985133349895476, 0.98293]] + \\\n",
        "      [[1, 900, 0.9999683320522308, 0.9829299999999999], [2, 900, 0.9994483292102813, 0.98549], [3, 900, 0.9988383293151855, 0.9839800000000001]] + \\\n",
        "      [[1, 1000, 0.9999783277511596, 0.98355], [2, 1000, 0.9992216706275939, 0.9851900000000001], [3, 1000, 0.9981000006198882, 0.9840899999999999]] + \\\n",
        "      [[1, 1100, 0.999943333864212, 0.98322], [2, 1100, 0.9988299906253814, 0.98383], [3, 1100, 0.9992283284664153, 0.9847400000000001]] + \\\n",
        "      [[1, 1200, 0.9999366641044616, 0.98373], [2, 1200, 0.9991550028324127, 0.98437], [3, 1200, 0.9987733304500579, 0.9846900000000001]] + \\\n",
        "      [[1, 1300, 0.9998000025749206, 0.9832599999999999], [2, 1300, 0.9991166651248932, 0.9847399999999998], [3, 1300, 0.9985633254051208, 0.9842799999999999]]\n",
        "\n",
        "df = pd.DataFrame(res,columns=('level','units','train_acc','test_acc'))"
      ],
      "execution_count": 0,
      "outputs": []
    },
    {
      "metadata": {
        "id": "seJQAeEAjbjm",
        "colab_type": "code",
        "colab": {}
      },
      "cell_type": "code",
      "source": [
        "def test_deep_layers(units=800,batch_size = 256, range_len = 10, verbose = 0):  \n",
        "  res = []\n",
        "  \n",
        "  train_acc = 0\n",
        "  test_acc = 0\n",
        "  for i in range(range_len):\n",
        "    trn_acc,tst_acc = predict([Dense(units, input_dim=784, activation=\"relu\"),\n",
        "                                   Dense(units-100, activation=\"relu\"),\n",
        "                                   Dense(units-200, activation=\"relu\"),\n",
        "                                   Dense(units-300, activation=\"relu\")])\n",
        "    train_acc += trn_acc/range_len\n",
        "    test_acc += tst_acc/range_len\n",
        "    \n",
        "  res.append([4,units,train_acc,test_acc])\n",
        "\n",
        "  train_acc = 0\n",
        "  test_acc = 0\n",
        "  for i in range(range_len):\n",
        "    trn_acc,tst_acc = predict([Dense(units, input_dim=784, activation=\"relu\"),\n",
        "                                   Dense(units-100, activation=\"relu\"),\n",
        "                                   Dense(units-200, activation=\"relu\"),\n",
        "                                   Dense(units-300, activation=\"relu\"),\n",
        "                                   Dense(units-400, activation=\"relu\")])\n",
        "    train_acc += trn_acc/range_len\n",
        "    test_acc += tst_acc/range_len\n",
        "    \n",
        "  res.append([5,units,train_acc,test_acc])\n",
        "  \n",
        "  train_acc = 0\n",
        "  test_acc = 0\n",
        "  for i in range(range_len):\n",
        "    trn_acc,tst_acc = predict([Dense(units, input_dim=784, activation=\"relu\"),\n",
        "                                   Dense(units-100, activation=\"relu\"),\n",
        "                                   Dense(units-200, activation=\"relu\"),\n",
        "                                   Dense(units-300, activation=\"relu\"),\n",
        "                                   Dense(units-400, activation=\"relu\"),\n",
        "                                   Dense(units-500, activation=\"relu\")])\n",
        "    train_acc += trn_acc/range_len\n",
        "    test_acc += tst_acc/range_len\n",
        "    \n",
        "  res.append([6,units,train_acc,test_acc])\n",
        "  \n",
        "  return res     "
      ],
      "execution_count": 0,
      "outputs": []
    },
    {
      "metadata": {
        "id": "_Y-zKj0jkldV",
        "colab_type": "code",
        "outputId": "d645aa80-9556-4c8a-9345-e00af07ac601",
        "colab": {
          "base_uri": "https://localhost:8080/",
          "height": 255
        }
      },
      "cell_type": "code",
      "source": [
        "%%time \n",
        "\n",
        "random.seed(666)\n",
        "batch_size = 256\n",
        "res600 = test_deep_layers(units=600,batch_size=batch_size,range_len=10 )\n",
        "print(res600)\n",
        "\n",
        "random.seed(666)\n",
        "batch_size = 256\n",
        "res700 = test_deep_layers(units=700,batch_size=batch_size,range_len=10 )\n",
        "print(res700)\n",
        "\n",
        "random.seed(666)\n",
        "batch_size = 256\n",
        "res800 = test_deep_layers(units=800,batch_size=batch_size,range_len=10 )\n",
        "print(res800)\n",
        "\n",
        "random.seed(666)\n",
        "batch_size = 256\n",
        "res900 = test_deep_layers(units=900,batch_size=batch_size,range_len=10 )\n",
        "print(res900)\n",
        "\n",
        "random.seed(666)\n",
        "batch_size = 256\n",
        "res1000 = test_deep_layers(units=1000,batch_size=batch_size,range_len=10 )\n",
        "print(res1000)"
      ],
      "execution_count": 0,
      "outputs": [
        {
          "output_type": "stream",
          "text": [
            "WARNING:tensorflow:From /usr/local/lib/python3.6/dist-packages/tensorflow/python/ops/resource_variable_ops.py:435: colocate_with (from tensorflow.python.framework.ops) is deprecated and will be removed in a future version.\n",
            "Instructions for updating:\n",
            "Colocations handled automatically by placer.\n",
            "WARNING:tensorflow:From /usr/local/lib/python3.6/dist-packages/tensorflow/python/ops/math_ops.py:3066: to_int32 (from tensorflow.python.ops.math_ops) is deprecated and will be removed in a future version.\n",
            "Instructions for updating:\n",
            "Use tf.cast instead.\n",
            "[[4, 600, 0.9989766657352447, 0.98451], [5, 600, 0.9988183319568633, 0.9839], [6, 600, 0.9984150052070618, 0.9838000000000001]]\n",
            "[[4, 700, 0.998971664905548, 0.98469], [5, 700, 0.999146670103073, 0.98487], [6, 700, 0.9974916696548461, 0.98174]]\n",
            "[[4, 800, 0.9979350090026855, 0.98311], [5, 800, 0.9985316634178161, 0.98342], [6, 800, 0.9985399961471556, 0.98438]]\n",
            "[[4, 900, 0.9986350059509278, 0.9836499999999999], [5, 900, 0.9983533322811126, 0.98356], [6, 900, 0.9982016623020172, 0.98383]]\n",
            "[[4, 1000, 0.9980516731739043, 0.98347], [5, 1000, 0.9988266646862028, 0.98507], [6, 1000, 0.998230004310608, 0.98402]]\n",
            "CPU times: user 8h 31min 59s, sys: 35min 28s, total: 9h 7min 27s\n",
            "Wall time: 8h 44min 45s\n"
          ],
          "name": "stdout"
        }
      ]
    },
    {
      "metadata": {
        "id": "-kmzUk6BAx8s",
        "colab_type": "code",
        "outputId": "d79eab12-c003-4b91-f679-a5986d02e31b",
        "colab": {
          "base_uri": "https://localhost:8080/",
          "height": 328
        }
      },
      "cell_type": "code",
      "source": [
        "df[df['level']==1].sort_values('train_acc', ascending=False)\n"
      ],
      "execution_count": 0,
      "outputs": [
        {
          "output_type": "execute_result",
          "data": {
            "text/html": [
              "<div>\n",
              "<style scoped>\n",
              "    .dataframe tbody tr th:only-of-type {\n",
              "        vertical-align: middle;\n",
              "    }\n",
              "\n",
              "    .dataframe tbody tr th {\n",
              "        vertical-align: top;\n",
              "    }\n",
              "\n",
              "    .dataframe thead th {\n",
              "        text-align: right;\n",
              "    }\n",
              "</style>\n",
              "<table border=\"1\" class=\"dataframe\">\n",
              "  <thead>\n",
              "    <tr style=\"text-align: right;\">\n",
              "      <th></th>\n",
              "      <th>level</th>\n",
              "      <th>units</th>\n",
              "      <th>train_acc</th>\n",
              "      <th>test_acc</th>\n",
              "    </tr>\n",
              "  </thead>\n",
              "  <tbody>\n",
              "    <tr>\n",
              "      <th>15</th>\n",
              "      <td>1</td>\n",
              "      <td>1000</td>\n",
              "      <td>0.999978</td>\n",
              "      <td>0.98355</td>\n",
              "    </tr>\n",
              "    <tr>\n",
              "      <th>9</th>\n",
              "      <td>1</td>\n",
              "      <td>800</td>\n",
              "      <td>0.999975</td>\n",
              "      <td>0.98338</td>\n",
              "    </tr>\n",
              "    <tr>\n",
              "      <th>12</th>\n",
              "      <td>1</td>\n",
              "      <td>900</td>\n",
              "      <td>0.999968</td>\n",
              "      <td>0.98293</td>\n",
              "    </tr>\n",
              "    <tr>\n",
              "      <th>18</th>\n",
              "      <td>1</td>\n",
              "      <td>1100</td>\n",
              "      <td>0.999943</td>\n",
              "      <td>0.98322</td>\n",
              "    </tr>\n",
              "    <tr>\n",
              "      <th>0</th>\n",
              "      <td>1</td>\n",
              "      <td>500</td>\n",
              "      <td>0.999938</td>\n",
              "      <td>0.98239</td>\n",
              "    </tr>\n",
              "    <tr>\n",
              "      <th>21</th>\n",
              "      <td>1</td>\n",
              "      <td>1200</td>\n",
              "      <td>0.999937</td>\n",
              "      <td>0.98373</td>\n",
              "    </tr>\n",
              "    <tr>\n",
              "      <th>3</th>\n",
              "      <td>1</td>\n",
              "      <td>600</td>\n",
              "      <td>0.999930</td>\n",
              "      <td>0.98248</td>\n",
              "    </tr>\n",
              "    <tr>\n",
              "      <th>6</th>\n",
              "      <td>1</td>\n",
              "      <td>700</td>\n",
              "      <td>0.999917</td>\n",
              "      <td>0.98277</td>\n",
              "    </tr>\n",
              "    <tr>\n",
              "      <th>24</th>\n",
              "      <td>1</td>\n",
              "      <td>1300</td>\n",
              "      <td>0.999800</td>\n",
              "      <td>0.98326</td>\n",
              "    </tr>\n",
              "  </tbody>\n",
              "</table>\n",
              "</div>"
            ],
            "text/plain": [
              "    level  units  train_acc  test_acc\n",
              "15      1   1000   0.999978   0.98355\n",
              "9       1    800   0.999975   0.98338\n",
              "12      1    900   0.999968   0.98293\n",
              "18      1   1100   0.999943   0.98322\n",
              "0       1    500   0.999938   0.98239\n",
              "21      1   1200   0.999937   0.98373\n",
              "3       1    600   0.999930   0.98248\n",
              "6       1    700   0.999917   0.98277\n",
              "24      1   1300   0.999800   0.98326"
            ]
          },
          "metadata": {
            "tags": []
          },
          "execution_count": 77
        }
      ]
    },
    {
      "metadata": {
        "id": "97oHAfEIOUzL",
        "colab_type": "code",
        "outputId": "2b0a6350-6ba5-4634-c0f2-1006d0c5905a",
        "colab": {
          "base_uri": "https://localhost:8080/",
          "height": 297
        }
      },
      "cell_type": "code",
      "source": [
        "df[df['level']==1].sort_values('test_acc', ascending=False)"
      ],
      "execution_count": 0,
      "outputs": [
        {
          "output_type": "execute_result",
          "data": {
            "text/html": [
              "<div>\n",
              "<style scoped>\n",
              "    .dataframe tbody tr th:only-of-type {\n",
              "        vertical-align: middle;\n",
              "    }\n",
              "\n",
              "    .dataframe tbody tr th {\n",
              "        vertical-align: top;\n",
              "    }\n",
              "\n",
              "    .dataframe thead th {\n",
              "        text-align: right;\n",
              "    }\n",
              "</style>\n",
              "<table border=\"1\" class=\"dataframe\">\n",
              "  <thead>\n",
              "    <tr style=\"text-align: right;\">\n",
              "      <th></th>\n",
              "      <th>level</th>\n",
              "      <th>units</th>\n",
              "      <th>train_acc</th>\n",
              "      <th>test_acc</th>\n",
              "    </tr>\n",
              "  </thead>\n",
              "  <tbody>\n",
              "    <tr>\n",
              "      <th>0</th>\n",
              "      <td>1</td>\n",
              "      <td>500</td>\n",
              "      <td>0.999938</td>\n",
              "      <td>0.98239</td>\n",
              "    </tr>\n",
              "    <tr>\n",
              "      <th>3</th>\n",
              "      <td>1</td>\n",
              "      <td>600</td>\n",
              "      <td>0.999930</td>\n",
              "      <td>0.98248</td>\n",
              "    </tr>\n",
              "    <tr>\n",
              "      <th>6</th>\n",
              "      <td>1</td>\n",
              "      <td>700</td>\n",
              "      <td>0.999917</td>\n",
              "      <td>0.98277</td>\n",
              "    </tr>\n",
              "    <tr>\n",
              "      <th>12</th>\n",
              "      <td>1</td>\n",
              "      <td>900</td>\n",
              "      <td>0.999968</td>\n",
              "      <td>0.98293</td>\n",
              "    </tr>\n",
              "    <tr>\n",
              "      <th>18</th>\n",
              "      <td>1</td>\n",
              "      <td>1100</td>\n",
              "      <td>0.999943</td>\n",
              "      <td>0.98322</td>\n",
              "    </tr>\n",
              "    <tr>\n",
              "      <th>9</th>\n",
              "      <td>1</td>\n",
              "      <td>800</td>\n",
              "      <td>0.999975</td>\n",
              "      <td>0.98338</td>\n",
              "    </tr>\n",
              "    <tr>\n",
              "      <th>15</th>\n",
              "      <td>1</td>\n",
              "      <td>1000</td>\n",
              "      <td>0.999978</td>\n",
              "      <td>0.98355</td>\n",
              "    </tr>\n",
              "    <tr>\n",
              "      <th>21</th>\n",
              "      <td>1</td>\n",
              "      <td>1200</td>\n",
              "      <td>0.999937</td>\n",
              "      <td>0.98373</td>\n",
              "    </tr>\n",
              "  </tbody>\n",
              "</table>\n",
              "</div>"
            ],
            "text/plain": [
              "    level  units  train_acc  test_acc\n",
              "0       1    500   0.999938   0.98239\n",
              "3       1    600   0.999930   0.98248\n",
              "6       1    700   0.999917   0.98277\n",
              "12      1    900   0.999968   0.98293\n",
              "18      1   1100   0.999943   0.98322\n",
              "9       1    800   0.999975   0.98338\n",
              "15      1   1000   0.999978   0.98355\n",
              "21      1   1200   0.999937   0.98373"
            ]
          },
          "metadata": {
            "tags": []
          },
          "execution_count": 72
        }
      ]
    },
    {
      "metadata": {
        "id": "7wnMyknXPDdd",
        "colab_type": "code",
        "outputId": "c26efc44-96ed-478e-fcf8-ef371a29a3f9",
        "colab": {
          "base_uri": "https://localhost:8080/",
          "height": 297
        }
      },
      "cell_type": "code",
      "source": [
        "df[df['level']==2].sort_values('train_acc', ascending=False)"
      ],
      "execution_count": 0,
      "outputs": [
        {
          "output_type": "execute_result",
          "data": {
            "text/html": [
              "<div>\n",
              "<style scoped>\n",
              "    .dataframe tbody tr th:only-of-type {\n",
              "        vertical-align: middle;\n",
              "    }\n",
              "\n",
              "    .dataframe tbody tr th {\n",
              "        vertical-align: top;\n",
              "    }\n",
              "\n",
              "    .dataframe thead th {\n",
              "        text-align: right;\n",
              "    }\n",
              "</style>\n",
              "<table border=\"1\" class=\"dataframe\">\n",
              "  <thead>\n",
              "    <tr style=\"text-align: right;\">\n",
              "      <th></th>\n",
              "      <th>level</th>\n",
              "      <th>units</th>\n",
              "      <th>train_acc</th>\n",
              "      <th>test_acc</th>\n",
              "    </tr>\n",
              "  </thead>\n",
              "  <tbody>\n",
              "    <tr>\n",
              "      <th>19</th>\n",
              "      <td>2</td>\n",
              "      <td>1100</td>\n",
              "      <td>0.998830</td>\n",
              "      <td>0.98383</td>\n",
              "    </tr>\n",
              "    <tr>\n",
              "      <th>10</th>\n",
              "      <td>2</td>\n",
              "      <td>800</td>\n",
              "      <td>0.998963</td>\n",
              "      <td>0.98380</td>\n",
              "    </tr>\n",
              "    <tr>\n",
              "      <th>1</th>\n",
              "      <td>2</td>\n",
              "      <td>500</td>\n",
              "      <td>0.999048</td>\n",
              "      <td>0.98310</td>\n",
              "    </tr>\n",
              "    <tr>\n",
              "      <th>22</th>\n",
              "      <td>2</td>\n",
              "      <td>1200</td>\n",
              "      <td>0.999155</td>\n",
              "      <td>0.98437</td>\n",
              "    </tr>\n",
              "    <tr>\n",
              "      <th>16</th>\n",
              "      <td>2</td>\n",
              "      <td>1000</td>\n",
              "      <td>0.999222</td>\n",
              "      <td>0.98519</td>\n",
              "    </tr>\n",
              "    <tr>\n",
              "      <th>7</th>\n",
              "      <td>2</td>\n",
              "      <td>700</td>\n",
              "      <td>0.999333</td>\n",
              "      <td>0.98459</td>\n",
              "    </tr>\n",
              "    <tr>\n",
              "      <th>4</th>\n",
              "      <td>2</td>\n",
              "      <td>600</td>\n",
              "      <td>0.999408</td>\n",
              "      <td>0.98437</td>\n",
              "    </tr>\n",
              "    <tr>\n",
              "      <th>13</th>\n",
              "      <td>2</td>\n",
              "      <td>900</td>\n",
              "      <td>0.999448</td>\n",
              "      <td>0.98549</td>\n",
              "    </tr>\n",
              "  </tbody>\n",
              "</table>\n",
              "</div>"
            ],
            "text/plain": [
              "    level  units  train_acc  test_acc\n",
              "19      2   1100   0.998830   0.98383\n",
              "10      2    800   0.998963   0.98380\n",
              "1       2    500   0.999048   0.98310\n",
              "22      2   1200   0.999155   0.98437\n",
              "16      2   1000   0.999222   0.98519\n",
              "7       2    700   0.999333   0.98459\n",
              "4       2    600   0.999408   0.98437\n",
              "13      2    900   0.999448   0.98549"
            ]
          },
          "metadata": {
            "tags": []
          },
          "execution_count": 73
        }
      ]
    },
    {
      "metadata": {
        "id": "s1oXPHxbPVR8",
        "colab_type": "code",
        "outputId": "2a560fa0-c83f-4e10-dc2b-1ac2f3a6c310",
        "colab": {
          "base_uri": "https://localhost:8080/",
          "height": 297
        }
      },
      "cell_type": "code",
      "source": [
        "df[df['level']==1].sort_values('test_acc', ascending=False)"
      ],
      "execution_count": 0,
      "outputs": [
        {
          "output_type": "execute_result",
          "data": {
            "text/html": [
              "<div>\n",
              "<style scoped>\n",
              "    .dataframe tbody tr th:only-of-type {\n",
              "        vertical-align: middle;\n",
              "    }\n",
              "\n",
              "    .dataframe tbody tr th {\n",
              "        vertical-align: top;\n",
              "    }\n",
              "\n",
              "    .dataframe thead th {\n",
              "        text-align: right;\n",
              "    }\n",
              "</style>\n",
              "<table border=\"1\" class=\"dataframe\">\n",
              "  <thead>\n",
              "    <tr style=\"text-align: right;\">\n",
              "      <th></th>\n",
              "      <th>level</th>\n",
              "      <th>units</th>\n",
              "      <th>train_acc</th>\n",
              "      <th>test_acc</th>\n",
              "    </tr>\n",
              "  </thead>\n",
              "  <tbody>\n",
              "    <tr>\n",
              "      <th>0</th>\n",
              "      <td>1</td>\n",
              "      <td>500</td>\n",
              "      <td>0.999938</td>\n",
              "      <td>0.98239</td>\n",
              "    </tr>\n",
              "    <tr>\n",
              "      <th>3</th>\n",
              "      <td>1</td>\n",
              "      <td>600</td>\n",
              "      <td>0.999930</td>\n",
              "      <td>0.98248</td>\n",
              "    </tr>\n",
              "    <tr>\n",
              "      <th>6</th>\n",
              "      <td>1</td>\n",
              "      <td>700</td>\n",
              "      <td>0.999917</td>\n",
              "      <td>0.98277</td>\n",
              "    </tr>\n",
              "    <tr>\n",
              "      <th>12</th>\n",
              "      <td>1</td>\n",
              "      <td>900</td>\n",
              "      <td>0.999968</td>\n",
              "      <td>0.98293</td>\n",
              "    </tr>\n",
              "    <tr>\n",
              "      <th>18</th>\n",
              "      <td>1</td>\n",
              "      <td>1100</td>\n",
              "      <td>0.999943</td>\n",
              "      <td>0.98322</td>\n",
              "    </tr>\n",
              "    <tr>\n",
              "      <th>9</th>\n",
              "      <td>1</td>\n",
              "      <td>800</td>\n",
              "      <td>0.999975</td>\n",
              "      <td>0.98338</td>\n",
              "    </tr>\n",
              "    <tr>\n",
              "      <th>15</th>\n",
              "      <td>1</td>\n",
              "      <td>1000</td>\n",
              "      <td>0.999978</td>\n",
              "      <td>0.98355</td>\n",
              "    </tr>\n",
              "    <tr>\n",
              "      <th>21</th>\n",
              "      <td>1</td>\n",
              "      <td>1200</td>\n",
              "      <td>0.999937</td>\n",
              "      <td>0.98373</td>\n",
              "    </tr>\n",
              "  </tbody>\n",
              "</table>\n",
              "</div>"
            ],
            "text/plain": [
              "    level  units  train_acc  test_acc\n",
              "0       1    500   0.999938   0.98239\n",
              "3       1    600   0.999930   0.98248\n",
              "6       1    700   0.999917   0.98277\n",
              "12      1    900   0.999968   0.98293\n",
              "18      1   1100   0.999943   0.98322\n",
              "9       1    800   0.999975   0.98338\n",
              "15      1   1000   0.999978   0.98355\n",
              "21      1   1200   0.999937   0.98373"
            ]
          },
          "metadata": {
            "tags": []
          },
          "execution_count": 74
        }
      ]
    },
    {
      "metadata": {
        "id": "IPVjbDsAnpbD",
        "colab_type": "code",
        "colab": {}
      },
      "cell_type": "code",
      "source": [
        "predictions = model.predict(x_test)\n",
        "accuracy_score(np.argmax(y_test,axis=1), np.argmax(predictions,axis=1))"
      ],
      "execution_count": 0,
      "outputs": []
    },
    {
      "metadata": {
        "id": "6mUxrmwbKfHv",
        "colab_type": "code",
        "colab": {}
      },
      "cell_type": "code",
      "source": [
        "'''\n",
        "history = model.fit(x_train,y_train, #datagen.flow(x_train,y_train, batch_size=batch_size), \n",
        "                    #aug.flow(X_train,Y_train, batch_size=batch_size), \n",
        "                    epochs=1000,\n",
        "                    #validation_data=(x_val, y_val),\n",
        "                    #steps_per_epoch=x_train.shape[0] // batch_size,\n",
        "                    verbose=1,\n",
        "                    callbacks=[сheckpoint, learning_rate_reduction, earlystop])\n",
        "'''\n"
      ],
      "execution_count": 0,
      "outputs": []
    },
    {
      "metadata": {
        "id": "hst69oycK4rf",
        "colab_type": "code",
        "outputId": "f3086b0b-549a-4bcf-c148-cde3f96b39f1",
        "colab": {
          "base_uri": "https://localhost:8080/",
          "height": 700
        }
      },
      "cell_type": "code",
      "source": [
        "\n",
        "model = create_model(TPU =True)\n",
        "model.load_weights('mnist-cnn.hdf5')\n",
        "\n",
        "score = model.evaluate(x_test, y_test, verbose=0)\n",
        "\n",
        "# Print test accuracy\n",
        "print('\\n', 'Test accuracy:', score[1], 'Loss: ',score[0])\n"
      ],
      "execution_count": 0,
      "outputs": [
        {
          "output_type": "stream",
          "text": [
            "INFO:tensorflow:Querying Tensorflow master (grpc://10.118.0.18:8470) for TPU system metadata.\n",
            "INFO:tensorflow:Found TPU system:\n",
            "INFO:tensorflow:*** Num TPU Cores: 8\n",
            "INFO:tensorflow:*** Num TPU Workers: 1\n",
            "INFO:tensorflow:*** Num TPU Cores Per Worker: 8\n",
            "INFO:tensorflow:*** Available Device: _DeviceAttributes(/job:worker/replica:0/task:0/device:CPU:0, CPU, -1, 13172324818075806562)\n",
            "INFO:tensorflow:*** Available Device: _DeviceAttributes(/job:worker/replica:0/task:0/device:XLA_CPU:0, XLA_CPU, 17179869184, 14542490687634635208)\n",
            "INFO:tensorflow:*** Available Device: _DeviceAttributes(/job:worker/replica:0/task:0/device:TPU:0, TPU, 17179869184, 3926342142175128996)\n",
            "INFO:tensorflow:*** Available Device: _DeviceAttributes(/job:worker/replica:0/task:0/device:TPU:1, TPU, 17179869184, 7881309208942047036)\n",
            "INFO:tensorflow:*** Available Device: _DeviceAttributes(/job:worker/replica:0/task:0/device:TPU:2, TPU, 17179869184, 6103072050995062287)\n",
            "INFO:tensorflow:*** Available Device: _DeviceAttributes(/job:worker/replica:0/task:0/device:TPU:3, TPU, 17179869184, 9014307316297110449)\n",
            "INFO:tensorflow:*** Available Device: _DeviceAttributes(/job:worker/replica:0/task:0/device:TPU:4, TPU, 17179869184, 165313714200408581)\n",
            "INFO:tensorflow:*** Available Device: _DeviceAttributes(/job:worker/replica:0/task:0/device:TPU:5, TPU, 17179869184, 7170088092151729845)\n",
            "INFO:tensorflow:*** Available Device: _DeviceAttributes(/job:worker/replica:0/task:0/device:TPU:6, TPU, 17179869184, 5072595759406559064)\n",
            "INFO:tensorflow:*** Available Device: _DeviceAttributes(/job:worker/replica:0/task:0/device:TPU:7, TPU, 17179869184, 7190347455302869195)\n",
            "INFO:tensorflow:*** Available Device: _DeviceAttributes(/job:worker/replica:0/task:0/device:TPU_SYSTEM:0, TPU_SYSTEM, 17179869184, 13409994470558455460)\n",
            "WARNING:tensorflow:tpu_model (from tensorflow.contrib.tpu.python.tpu.keras_support) is experimental and may change or be removed at any time, and without warning.\n",
            "INFO:tensorflow:New input shapes; (re-)compiling: mode=eval (# of cores 8), [TensorSpec(shape=(4,), dtype=tf.int32, name='core_id_40'), TensorSpec(shape=(4, 784), dtype=tf.float32, name='dense_6_input_10'), TensorSpec(shape=(4, 10), dtype=tf.float32, name='dense_7_target_10')]\n",
            "INFO:tensorflow:Overriding default placeholder.\n",
            "INFO:tensorflow:Cloning Adam {'lr': 0.0010000000474974513, 'beta_1': 0.8999999761581421, 'beta_2': 0.9990000128746033, 'decay': 0.0, 'epsilon': 1e-07, 'amsgrad': False}\n",
            "INFO:tensorflow:Remapping placeholder for dense_6_input\n",
            "INFO:tensorflow:KerasCrossShard: <tensorflow.python.keras.optimizers.Adam object at 0x7f2b1022b438> []\n",
            "INFO:tensorflow:Started compiling\n",
            "INFO:tensorflow:Finished compiling. Time elapsed: 1.9954771995544434 secs\n",
            "INFO:tensorflow:Setting weights on TPU model.\n",
            "INFO:tensorflow:CPU -> TPU lr: 0.0010000000474974513 {0.001}\n",
            "INFO:tensorflow:CPU -> TPU beta_1: 0.8999999761581421 {0.9}\n",
            "INFO:tensorflow:CPU -> TPU beta_2: 0.9990000128746033 {0.999}\n",
            "INFO:tensorflow:CPU -> TPU decay: 0.0 {0.0}\n",
            "WARNING:tensorflow:Cannot update non-variable config: epsilon\n",
            "WARNING:tensorflow:Cannot update non-variable config: amsgrad\n",
            "INFO:tensorflow:New input shapes; (re-)compiling: mode=eval (# of cores 8), [TensorSpec(shape=(2,), dtype=tf.int32, name='core_id_40'), TensorSpec(shape=(2, 784), dtype=tf.float32, name='dense_6_input_10'), TensorSpec(shape=(2, 10), dtype=tf.float32, name='dense_7_target_10')]\n",
            "INFO:tensorflow:Overriding default placeholder.\n",
            "INFO:tensorflow:Remapping placeholder for dense_6_input\n",
            "INFO:tensorflow:KerasCrossShard: <tensorflow.python.keras.optimizers.Adam object at 0x7f2b1022b438> []\n",
            "INFO:tensorflow:Started compiling\n",
            "INFO:tensorflow:Finished compiling. Time elapsed: 0.9679601192474365 secs\n",
            "\n",
            " Test accuracy: 0.9834 Loss:  0.061539487685299175\n"
          ],
          "name": "stdout"
        }
      ]
    },
    {
      "metadata": {
        "id": "959ZNRemMzuY",
        "colab_type": "code",
        "outputId": "48353753-6bac-4881-a93e-4fb7abdb102c",
        "colab": {
          "base_uri": "https://localhost:8080/",
          "height": 102
        }
      },
      "cell_type": "code",
      "source": [
        "predictions = model.predict(x_test)\n",
        "accuracy_score(np.argmax(y_test,axis=1), np.argmax(predictions,axis=1))"
      ],
      "execution_count": 0,
      "outputs": [
        {
          "output_type": "stream",
          "text": [
            "INFO:tensorflow:New input shapes; (re-)compiling: mode=infer (# of cores 8), [TensorSpec(shape=(2, 784), dtype=tf.float32, name='dense_6_input_10')]\n",
            "INFO:tensorflow:Overriding default placeholder.\n",
            "INFO:tensorflow:Remapping placeholder for dense_6_input\n",
            "INFO:tensorflow:Started compiling\n",
            "INFO:tensorflow:Finished compiling. Time elapsed: 1.0034997463226318 secs\n"
          ],
          "name": "stdout"
        }
      ]
    },
    {
      "metadata": {
        "id": "kgZ3fo8vlC4R",
        "colab_type": "code",
        "colab": {}
      },
      "cell_type": "code",
      "source": [
        "def categorical_crossentropy(predictions, targets, epsilon=1e-12):\n",
        "  predictions = np.clip(predictions, epsilon, 1. - epsilon)\n",
        "  ce = - np.mean(np.log(predictions) * targets) \n",
        "  return ce"
      ],
      "execution_count": 0,
      "outputs": []
    },
    {
      "metadata": {
        "id": "3p3QAtS3azJK",
        "colab_type": "code",
        "outputId": "2088cce9-c1df-49dd-8aec-88496ff6b107",
        "colab": {
          "base_uri": "https://localhost:8080/",
          "height": 34
        }
      },
      "cell_type": "code",
      "source": [
        "#np.sum( (np.argmax(y_test,axis=1) - np.argmax(predictions,axis=1))^2 )\n",
        "#np.mean( (np.argmax(y_test,axis=1) - np.argmax(predictions,axis=1))^2 )\n",
        "from sklearn.metrics import accuracy_score, mean_squared_error, mean_absolute_error\n",
        "#print(mean_squared_error(np.argmax(y_test,axis=1), np.argmax(predictions,axis=1)))\n",
        "#print(mean_absolute_error(np.argmax(y_test,axis=1), np.argmax(predictions,axis=1)))\n",
        "#print(np.sqrt(np.sum( (np.argmax(y_test,axis=1) - np.argmax(predictions,axis=1))^2 )))\n",
        "#predictions = model.predict(x_test)\n",
        "#categorical_crossentropy(predictions, y_test)\n",
        "accuracy_score(np.argmax(y_test,axis=1), np.argmax(predictions,axis=1))\n",
        "#predictions = model.predict(x_train)\n",
        "#categorical_crossentropy(predictions, y_train)"
      ],
      "execution_count": 0,
      "outputs": [
        {
          "output_type": "execute_result",
          "data": {
            "text/plain": [
              "0.9834"
            ]
          },
          "metadata": {
            "tags": []
          },
          "execution_count": 61
        }
      ]
    },
    {
      "metadata": {
        "id": "VG4NGLtrPGvU",
        "colab_type": "text"
      },
      "cell_type": "markdown",
      "source": [
        "Задание Light\n",
        "\n",
        "Проверьте, как сеть распознает разные цифры из тестового набора данных\n",
        "Попробуйте сами написать цифру и распознать ее с помощью сеть\n",
        "В цикле распознайте все цифры тестовой выборки и посчитайте точность распознавания на тестовой\n",
        "Выберите 10 разных вариантов количества слоёв и нейронов в скрытых слоях от небольшого до большого и заполните таблицу с точностью обучения - на обучающей и на тестовой выборке\n",
        "Напишите ваши выводы - как влияет количество нейронов в сети на точность на тестовой выборке\n",
        " \n",
        "\n",
        "Задание Pro\n",
        "\n",
        "Запустите в цикле поштучное распознавание всех цифр обучающей выборки\n",
        "Выделите те, на которых была ошибка и точность распознавания была ниже некоторого порога alpha (например, 0.8)\n",
        "Выбросите все ошибочные цифры из обучающей выборки\n",
        "Переобучите сеть на «очищенной» выборке\n",
        "Посчитайте точность на тестовой выборке и сравните с точность на тестовой до очистки обучающей и коэффициент роста точности\n",
        "Составьте таблицу коэффициентов роста точности на 10 примерах в зависимости от размера сети и от разных alpha\n",
        "Напишите ваши выводы - как влияет очистка данных на точность на тестовой выборке"
      ]
    }
  ]
}